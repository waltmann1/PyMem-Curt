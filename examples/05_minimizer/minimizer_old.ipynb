{
 "cells": [
  {
   "cell_type": "markdown",
   "metadata": {},
   "source": [
    "# Energy minimization of a closed shell"
   ]
  },
  {
   "cell_type": "markdown",
   "metadata": {},
   "source": [
    "In this example we reproduce the energy minimization of an icosahedral shell [Lidmar, et al](https://)"
   ]
  },
  {
   "cell_type": "markdown",
   "metadata": {},
   "source": [
    "## Table of contents"
   ]
  },
  {
   "cell_type": "markdown",
   "metadata": {},
   "source": [
    "<dl>\n",
    "  <dt>By</dt>\n",
    "  <dd>Siyu Li</dd>\n",
    "  <dt>Type</dt>\n",
    "  <dd>Minimizer</dd>\n",
    "</dl>"
   ]
  },
  {
   "cell_type": "code",
   "execution_count": 1,
   "metadata": {},
   "outputs": [],
   "source": [
    "#First we need to import the module for the simulations\n",
    "import pymembrane as mb\n",
    "#numpy\n",
    "import numpy as np"
   ]
  },
  {
   "cell_type": "markdown",
   "metadata": {},
   "source": [
    "#### Loading Mesh\n",
    "We first load the icosahedral mesh, the triangulation number used in the paper is T=189 with (h, k)=(12, 3). The input file can be found in the end of this section."
   ]
  },
  {
   "cell_type": "code",
   "execution_count": 2,
   "metadata": {},
   "outputs": [
    {
     "name": "stdout",
     "output_type": "stream",
     "text": [
      "Mesh\n",
      " Numvertices  25002\n",
      " NumFaces  50000\n",
      " NumEdges  75000\n",
      " NumHEdges  150000\n"
     ]
    }
   ],
   "source": [
    "#create a system \n",
    "system = mb.System()\n",
    "#read the mesh\n",
    "vertex_file = 'vertices_T2500.inp'\n",
    "face_file = 'faces_T2500.inp'\n",
    "system.read_mesh_from_files(files = {'vertices': vertex_file, 'faces': face_file})"
   ]
  },
  {
   "cell_type": "code",
   "execution_count": 3,
   "metadata": {},
   "outputs": [],
   "source": [
    "dump = system.dump() \n",
    "dump.vtk(\"initial mesh\")"
   ]
  },
  {
   "cell_type": "code",
   "execution_count": 3,
   "metadata": {},
   "outputs": [
    {
     "name": "stdout",
     "output_type": "stream",
     "text": [
      "kb: 0.01\n"
     ]
    }
   ],
   "source": [
    "kb = 0.01\n",
    "print(\"kb:\", kb)"
   ]
  },
  {
   "cell_type": "code",
   "execution_count": 4,
   "metadata": {},
   "outputs": [],
   "source": [
    "evolver = mb.Evolver(system)\n",
    "\n",
    "evolver.add_force(\"Mesh>Harmonic\", {\"k\": {\"0\": str(1.)},\n",
    "                                    \"l0\": {\"0\": str(1.0)}})\n",
    "\n",
    "evolver.add_force(\"Mesh>Bending\", {\"kappa\": {\"0\": str(kb)}})"
   ]
  },
  {
   "cell_type": "markdown",
   "metadata": {},
   "source": [
    "After assign all the potentials to the system we now need to add the ***Monte Carlo*** integrator. In the following example, each Monte Carlo run will contain $N_v$ attempts move of vertice and $N_v$ attempts of edge swaps."
   ]
  },
  {
   "cell_type": "code",
   "execution_count": 12,
   "metadata": {},
   "outputs": [],
   "source": [
    "evolver.add_minimizer(\"Mesh>Fire\", {\"dt\": \"0.1\", \"max_iter\": \"10000\", \"ftol\": \"0.01\", \"etol\": \"0.0000001\"})"
   ]
  },
  {
   "cell_type": "code",
   "execution_count": 8,
   "metadata": {},
   "outputs": [
    {
     "name": "stdout",
     "output_type": "stream",
     "text": [
      "[{'kappa': '0.01 1 1 1 1 1 1 1 1 1 ', 'name': 'bending', 'type': 'edge'}, {'k': '1 0 0 0 0 0 0 0 0 0 ', 'l0': '1 1 1 1 1 1 1 1 1 1 ', 'name': 'harmonic', 'type': 'edge'}]\n",
      "{'Mesh>Fire': {'alpha': '0.1', 'converge': 'false', 'dE': '0', 'dt': '0.01', 'energy': '0', 'etol': '1e-07', 'fnorm': '0', 'ftol': '0.01', 'max_iter': '10', 'n_since_start': '0', 'name': 'fire'}}\n",
      "initial total energy: 4.410563588330755\n"
     ]
    }
   ],
   "source": [
    "print(evolver.get_force_info())\n",
    "print(evolver.get_minimizer_info())\n",
    "computer = system.compute_mesh()\n",
    "energies = computer.compute_mesh_energy(evolver)\n",
    "print(\"initial total energy:\", sum(energies[\"vertices\"]) + sum(energies[\"edges\"]) + sum(energies[\"faces\"]))"
   ]
  },
  {
   "cell_type": "markdown",
   "metadata": {},
   "source": [
    "Finally we use annealing method to integrate the monte carlo simulation. Five cooling cycles are used below where each cycle containes a linear decreasing of temperature."
   ]
  },
  {
   "cell_type": "code",
   "execution_count": null,
   "metadata": {},
   "outputs": [],
   "source": [
    "step, max_step = 0, 1000\n",
    "while True:\n",
    "    evolver.minimize()\n",
    "    info = evolver.get_minimizer_info()\n",
    "    print(step, info)\n",
    "    dump.vtk(f\"fire_kb_{kb}_step_{step}\")\n",
    "    energies = computer.compute_mesh_energy(evolver)\n",
    "    print(\"vertex energy:\", sum(energies[\"vertices\"]), \"edge energy:\", sum(energies[\"edges\"]), \"face energy:\", sum(energies[\"faces\"]))\n",
    "    print(\"total energy:\", sum(energies[\"vertices\"]) + sum(energies[\"edges\"]) + sum(energies[\"faces\"]))\n",
    "\n",
    "    if (info[\"Mesh>Fire\"][\"converge\"] == 'true') or step >= max_step: \n",
    "        break\n",
    "    step += 1\n",
    "dump.vtk(\"fire_kb_\" + str(kb))"
   ]
  },
  {
   "cell_type": "markdown",
   "metadata": {},
   "source": [
    "Download the [**script**](minimizer.py), [**initial vertice file**](vertices_T2500.inp), [**initial face file**](faces_T2500.inp)."
   ]
  },
  {
   "cell_type": "markdown",
   "metadata": {},
   "source": [
    "#### Visualization in Paraview"
   ]
  },
  {
   "cell_type": "markdown",
   "metadata": {},
   "source": [
    "![twocomp_fac](../images/twocomp_fac.pdf)"
   ]
  }
 ],
 "metadata": {
  "kernelspec": {
   "display_name": "Python 3 (ipykernel)",
   "language": "python",
   "name": "python3"
  },
  "language_info": {
   "codemirror_mode": {
    "name": "ipython",
    "version": 3
   },
   "file_extension": ".py",
   "mimetype": "text/x-python",
   "name": "python",
   "nbconvert_exporter": "python",
   "pygments_lexer": "ipython3",
   "version": "3.9.7"
  }
 },
 "nbformat": 4,
 "nbformat_minor": 4
}
