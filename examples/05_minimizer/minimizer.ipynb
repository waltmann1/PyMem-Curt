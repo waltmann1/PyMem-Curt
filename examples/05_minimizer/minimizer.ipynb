{
 "cells": [
  {
   "cell_type": "markdown",
   "id": "1ac37b32-b532-441a-99f6-f148cd7fb4cd",
   "metadata": {
    "tags": []
   },
   "source": [
    "# Energy minimization of a closed shell under constant volume"
   ]
  },
  {
   "cell_type": "code",
   "execution_count": 1,
   "id": "62352a54-2e1f-4f2b-8763-dd41810addbe",
   "metadata": {},
   "outputs": [],
   "source": [
    "#First we need to import the module for the simulations\n",
    "import pymembrane as mb\n",
    "#numpy\n",
    "import numpy as np"
   ]
  },
  {
   "cell_type": "markdown",
   "id": "fa7ae50a-0886-4533-9fab-0d032d39e498",
   "metadata": {},
   "source": [
    "#### Loading Mesh\n",
    "We first load the mesh  with 6281 vertices and 12558 faces."
   ]
  },
  {
   "cell_type": "code",
   "execution_count": 2,
   "id": "df9f4208-5718-448c-9af4-264e749305a2",
   "metadata": {},
   "outputs": [
    {
     "name": "stdout",
     "output_type": "stream",
     "text": [
      "Mesh\n",
      " Numvertices  6281\n",
      " NumFaces  12558\n",
      " NumEdges  18837\n",
      " NumHEdges  37674\n"
     ]
    }
   ],
   "source": [
    "#create a system \n",
    "system = mb.System()\n",
    "#read the mesh\n",
    "vertex_file = 'vertices_R1.0.inp'\n",
    "face_file = 'faces_R1.0.inp'\n",
    "system.read_mesh_from_files(files = {'vertices': vertex_file, 'faces': face_file})"
   ]
  },
  {
   "cell_type": "markdown",
   "id": "f4b45ae1-204d-4d4e-8028-4629fce9a761",
   "metadata": {},
   "source": [
    "#### Create a dumper"
   ]
  },
  {
   "cell_type": "code",
   "execution_count": 3,
   "id": "92ff7408-5fcf-42eb-9585-0304b3f80192",
   "metadata": {},
   "outputs": [],
   "source": [
    "dump = system.dump() \n",
    "dump.vtk(\"initial mesh\")"
   ]
  },
  {
   "cell_type": "markdown",
   "id": "6c33009e-c3d7-4206-aefb-c5af1831fa34",
   "metadata": {},
   "source": [
    "#### Check the average edge length"
   ]
  },
  {
   "cell_type": "code",
   "execution_count": 4,
   "id": "ea96d572-7627-4f03-b5ae-5735f3849dce",
   "metadata": {},
   "outputs": [
    {
     "name": "stdout",
     "output_type": "stream",
     "text": [
      "mean edge length: 0.04816973986825737\n",
      "volume: 4.185092296647554\n"
     ]
    }
   ],
   "source": [
    "compute = system.compute_mesh()\n",
    "mean_edge_length = np.mean(compute.edge_lengths())\n",
    "print('mean edge length: {}'.format(mean_edge_length))\n",
    "volume = compute.volume()\n",
    "print('volume: {}'.format(volume))"
   ]
  },
  {
   "cell_type": "markdown",
   "id": "8e86ca20-d18a-4d9d-82c4-926b138fa49b",
   "metadata": {},
   "source": [
    "#### Create an Evolver to add the potentials"
   ]
  },
  {
   "cell_type": "code",
   "execution_count": 5,
   "id": "be1434d9-523e-47ee-842a-749deb3edc7a",
   "metadata": {},
   "outputs": [],
   "source": [
    "evolver = mb.Evolver(system)\n",
    "\n",
    "# add some strain into the edges\n",
    "k = 50.0\n",
    "l0 = 1.1*mean_edge_length\n",
    "\n",
    "evolver.add_force(\"Mesh>Harmonic\", {\"k\": {\"0\": str(k)},\n",
    "                                    \"l0\": {\"0\": str(l0)}})\n",
    "\n",
    "# add bending rigidity\n",
    "kb = 1.0\n",
    "evolver.add_force(\"Mesh>Bending\", {\"kappa\": {\"0\": str(kb)}})"
   ]
  },
  {
   "cell_type": "code",
   "execution_count": 6,
   "id": "850379bf-bbbc-4dc9-88ee-243f8d7c4f19",
   "metadata": {},
   "outputs": [
    {
     "name": "stdout",
     "output_type": "stream",
     "text": [
      "initial total energy: 24.727914970797148\n"
     ]
    }
   ],
   "source": [
    "energies = compute.energy(evolver)\n",
    "print(\"initial total energy:\", energies[\"vertices\"] + energies[\"edges\"] + energies[\"faces\"])"
   ]
  },
  {
   "cell_type": "markdown",
   "id": "0165ad53-4ae9-4486-a653-b37bd303f899",
   "metadata": {},
   "source": [
    "#### Add a minimizer"
   ]
  },
  {
   "cell_type": "code",
   "execution_count": 7,
   "id": "481c741b-8fd2-4190-8790-618a58b5b2a7",
   "metadata": {},
   "outputs": [],
   "source": [
    "evolver.add_minimizer(\"Mesh>Fire\", {\"dt\": str(1e-2), \"max_iter\": str(10000), \"ftol\": str(1e-2), \"etol\": str(1e-5)})"
   ]
  },
  {
   "cell_type": "markdown",
   "id": "f9756b98-f636-464b-aefa-1316e844a5c4",
   "metadata": {},
   "source": [
    "#### Add volume contraint"
   ]
  },
  {
   "cell_type": "code",
   "execution_count": 8,
   "id": "3fbfc94e-faf6-4f26-9269-b706395d4cf5",
   "metadata": {},
   "outputs": [
    {
     "name": "stdout",
     "output_type": "stream",
     "text": [
      "parameter  V  is not part of  volume  constraint\n",
      "parameter  max_iter  is not part of  volume  constraint\n",
      "parameter  V  is not part of  volume  constraint\n",
      "parameter  max_iter  is not part of  volume  constraint\n"
     ]
    }
   ],
   "source": [
    "evolver.add_constraint(\"Mesh>Volume\", {\"V\": str(volume), \"max_iter\": str(10000), \"tol\":str(1e-5)})"
   ]
  },
  {
   "cell_type": "markdown",
   "id": "a6688355-5dbb-478b-92b7-382afd3f5dbe",
   "metadata": {},
   "source": [
    "#### Minimize "
   ]
  },
  {
   "cell_type": "code",
   "execution_count": 9,
   "id": "5655d459-ce87-4669-9660-49f716573603",
   "metadata": {},
   "outputs": [],
   "source": [
    "evolver.minimize()"
   ]
  },
  {
   "cell_type": "code",
   "execution_count": 10,
   "id": "dd65ddf8-45ba-49a5-b3f7-d02ae988945d",
   "metadata": {},
   "outputs": [
    {
     "name": "stdout",
     "output_type": "stream",
     "text": [
      "{'Mesh>Fire': {'alpha': '6.47389e-09', 'dE': '-6.83481e-07', 'dt': '6.10352e-07', 'energy': '66.1324', 'etol': '1e-05', 'fnorm': '33.2405', 'ftol': '0.01', 'is_satisfy': 'false', 'n_since_start': '10000', 'name': 'fire'}}\n"
     ]
    }
   ],
   "source": [
    "print(evolver.get_minimizer_info())"
   ]
  },
  {
   "cell_type": "code",
   "execution_count": 11,
   "id": "701bb485-a2d8-47f3-9519-5d8644a6f372",
   "metadata": {},
   "outputs": [
    {
     "name": "stdout",
     "output_type": "stream",
     "text": [
      "final total energy: 66.1323794478285\n",
      "volume difference: -1.2166669458579804e-06\n"
     ]
    }
   ],
   "source": [
    "energies = compute.energy(evolver)\n",
    "print(\"final total energy:\", energies[\"vertices\"] + energies[\"edges\"] + energies[\"faces\"])\n",
    "\n",
    "new_volume = compute.volume()\n",
    "print(\"volume difference: {}\".format(volume-new_volume))"
   ]
  },
  {
   "cell_type": "code",
   "execution_count": 12,
   "id": "4c2b4f5e-dc34-4f8a-9e3a-08fe9471857b",
   "metadata": {},
   "outputs": [],
   "source": [
    "dump.vtk(\"new mesh\")"
   ]
  },
  {
   "cell_type": "code",
   "execution_count": null,
   "id": "aa5fe34e-c2f4-4399-84ac-987f4028507a",
   "metadata": {},
   "outputs": [],
   "source": []
  }
 ],
 "metadata": {
  "kernelspec": {
   "display_name": "Python 3 (ipykernel)",
   "language": "python",
   "name": "python3"
  },
  "language_info": {
   "codemirror_mode": {
    "name": "ipython",
    "version": 3
   },
   "file_extension": ".py",
   "mimetype": "text/x-python",
   "name": "python",
   "nbconvert_exporter": "python",
   "pygments_lexer": "ipython3",
   "version": "3.9.7"
  }
 },
 "nbformat": 4,
 "nbformat_minor": 5
}
