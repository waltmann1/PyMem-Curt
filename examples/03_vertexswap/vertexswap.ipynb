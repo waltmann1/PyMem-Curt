{
 "cells": [
  {
   "cell_type": "markdown",
   "metadata": {},
   "source": [
    "# Multicomponent elastic membranes\n",
    "\n",
    "\n",
    "In this example we reproduce the results presented in [paper](). The model describes a bacteria microcomparment with three different types of proteins, which is characterized with hetereogeneous bending rigidities. Different from the previous [example](edgeswap.md), the heterogeneous properties are assigned to the vertices other than edges.\n",
    "\n",
    "## Table of contents\n",
    "\n",
    "<dl>\n",
    "  <dt>By</dt>\n",
    "  <dd>Siyu Li</dd>\n",
    "  <dt>Type</dt>\n",
    "  <dd>Monte Carlo</dd>\n",
    "</dl>"
   ]
  },
  {
   "cell_type": "markdown",
   "metadata": {},
   "source": [
    "### Three Component Vertex Swap\n",
    "\n",
    "To begin we first import the necessary modulus and load the icosahedral mesh. The triangulation number is T=192 with (h,k)=(8,8)."
   ]
  },
  {
   "cell_type": "code",
   "execution_count": null,
   "metadata": {},
   "outputs": [],
   "source": [
    "#First we need to import the module for the simulations\n",
    "import pymembrane as mb\n",
    "#numpy\n",
    "import numpy as np"
   ]
  },
  {
   "cell_type": "code",
   "execution_count": null,
   "metadata": {},
   "outputs": [],
   "source": [
    "#create a system \n",
    "system = mb.System()\n",
    "#read the mesh\n",
    "vertex_file = '03_vertexswap/vertices_T192.inp'\n",
    "face_file = '03_vertexswap/faces_T192.inp'\n",
    "system.read_mesh_from_files(files = {'vertices': vertex_file, 'faces': face_file})"
   ]
  },
  {
   "cell_type": "markdown",
   "metadata": {},
   "source": [
    "Then we assign different types to the vertices by using 'getVertices' and 'setVertices' functions:"
   ]
  },
  {
   "cell_type": "code",
   "execution_count": null,
   "metadata": {},
   "outputs": [],
   "source": [
    "fac=[0.6,0.3]\n",
    "vertices = system.getVertices()\n",
    "Nv=len(vertices)\n",
    "id0s=np.random.choice(range(Nv),round(fac[0] * Nv),replace=False)\n",
    "id1s=np.random.choice(list(set(range(Nv))-set(id0s)),round(fac[1] * Nv),replace=False)\n",
    "id2s=list(set(range(Nv))-set(id0s)-set(id1s))\n",
    "\n",
    "for vi in id0s: vertices[vi].type=0\n",
    "for vi in id1s: vertices[vi].type=1\n",
    "for vi in id2s: vertices[vi].type=2\n",
    "\n",
    "system.setVertices(vertices)"
   ]
  },
  {
   "cell_type": "markdown",
   "metadata": {},
   "source": [
    "**Dump** initial triangulation mesh"
   ]
  },
  {
   "cell_type": "code",
   "execution_count": null,
   "metadata": {},
   "outputs": [],
   "source": [
    "#save the mesh to display\n",
    "#create dumper\n",
    "dump = system.dump() \n",
    "dump.vtk(\"initial mesh\")"
   ]
  },
  {
   "cell_type": "markdown",
   "metadata": {},
   "source": [
    "Next we setup the potentials. The elastic property of the shell is homogeneous and is defined with **harmonic bonds** potential $E_{bond}=\\sum_i k~(l_i-l_0)^2$, $i$ is the edge index."
   ]
  },
  {
   "cell_type": "code",
   "execution_count": null,
   "metadata": {},
   "outputs": [],
   "source": [
    "#add the evolver class where the potentials and integrators are added\n",
    "evolver = mb.Evolver(system)"
   ]
  },
  {
   "cell_type": "code",
   "execution_count": null,
   "metadata": {},
   "outputs": [],
   "source": [
    "evolver.add_force(\"Mesh>Harmonic\", {\"k\": {\"0\": str(10.), \"1\": str(10.), \"2\": str(10.)},\n",
    "                                    \"l0\": {\"0\": str(1.0), \"1\": str(1.0), \"2\": str(1.0)}})"
   ]
  },
  {
   "cell_type": "markdown",
   "metadata": {},
   "source": [
    "The **bending energy** is defined on the vertices based on Itzykson's discretization and [paper](https://journals.aps.org/pre/abstract/10.1103/PhysRevE.68.061905), where $E_{bend}=\\sum_i^N \\big(2\\kappa_i (H_i-H_0 )^2+\\kappa^g_i G_i\\big) A_i$, $H$ and $G$ are the mean curvature and gauss curvature respectively. \n",
    "This bending potential can be added through \"bendingGK\", with $H_0$, $\\kappa$, $\\kappa^g$ the spontaneous curvature, bending rigidity and gaussian rigidity.\n",
    "<!---The discretized formula $H_i = \\frac{1}{2 A_i}\\sum_{j\\in N(i)}\\big(\\cot (\\alpha_{ij})+\\cot(\\beta_{ij})\\big)(\\mathbf{x}_i-\\mathbf{x}_j)$ and $G_i = 2\\pi-\\sum_i \\theta_i$. ---> "
   ]
  },
  {
   "cell_type": "code",
   "execution_count": null,
   "metadata": {},
   "outputs": [],
   "source": [
    "evolver.add_force(\"Mesh>BendingGK\", {\"H0\": {\"0\": \"0.\", \"1\": \"0.\", \"2\": \"0.\"},\n",
    "                                     \"kappaH\": {\"0\": \"4.\", \"1\": \"1.\", \"2\": \"0.8\"},\n",
    "                                     \"kappaG\": {\"0\": str(-0.66667 * 4.), \"1\": str(-0.66667 * 1.), \"2\": str(-0.66667 * 0.8)}})"
   ]
  },
  {
   "cell_type": "markdown",
   "metadata": {},
   "source": [
    "In addition, **Line Tension potential** is used to define the affinity between different types of vertices. The potential is defined as $E_{bend}=\\sum_{<v_i,v_j>}\\gamma~(1-\\delta(m(v_i),m(v_j)))$ where $\\gamma$ is the line tension coefficient which can be assigned:"
   ]
  },
  {
   "cell_type": "code",
   "execution_count": null,
   "metadata": {},
   "outputs": [],
   "source": [
    "evolver.add_force(\"Mesh>Linetension\", {\"gamma\": {\"0\": \"0.0004\", \"1\": \"0.0004\", \"2\": \"0.0004\"}}) "
   ]
  },
  {
   "cell_type": "markdown",
   "metadata": {},
   "source": [
    "Finally, same **limit edge** potential is added"
   ]
  },
  {
   "cell_type": "code",
   "execution_count": null,
   "metadata": {},
   "outputs": [],
   "source": [
    "evolver.add_force(\"Mesh>Limit\", {\"lmax\": {\"0\": \"1.3\", \"1\": \"1.3\"},\n",
    "                                 \"lmin\": {\"0\": \"0.7\", \"1\": \"0.7\"}})"
   ]
  },
  {
   "cell_type": "markdown",
   "metadata": {},
   "source": [
    "After assign all the potentials we add the **Monte Carlo** integrator\n"
   ]
  },
  {
   "cell_type": "code",
   "execution_count": null,
   "metadata": {},
   "outputs": [],
   "source": [
    "evolver.add_integrator(\"Mesh>MonteCarlo>vertex>move\", {\"dr\": \"0.05\"})\n",
    "evolver.add_integrator(\"Mesh>MonteCarlo>vertex>swap\", {\"every step\": \"1\"})"
   ]
  },
  {
   "cell_type": "code",
   "execution_count": null,
   "metadata": {},
   "outputs": [],
   "source": [
    "print(evolver.get_force_info())"
   ]
  },
  {
   "cell_type": "markdown",
   "metadata": {},
   "source": [
    "and use the annealing method to integrate"
   ]
  },
  {
   "cell_type": "code",
   "execution_count": null,
   "metadata": {},
   "outputs": [],
   "source": [
    "## Now we want to run 20000 steps and take snapshot every 10000 steps so then\n",
    "frame = 0\n",
    "run_steps = 20000\n",
    "snapshots = 10\n",
    "anneal_steps = 5\n",
    "templist = np.linspace(0.1, 10**-7, 10)\n",
    "\n",
    "for anneal in range(anneal_steps):\n",
    "    for tempindex, temp in enumerate(templist):\n",
    "        ## we step the temperature first\n",
    "        evolver.set_global_temperature(str(temp))\n",
    "        for frame in range(snapshots):\n",
    "            evolver.evolveMC(run_steps // snapshots)\n",
    "            dump.vtk(\"vertex_swap_t\" + str(frame))"
   ]
  },
  {
   "cell_type": "markdown",
   "metadata": {},
   "source": [
    "Finally we dump the state to json file\n"
   ]
  },
  {
   "cell_type": "markdown",
   "metadata": {},
   "source": [
    "Download the [**script**](../../attached/vertexswap.py), [**initial vertice file**](../../attached/vertices_T192.inp), [**initial face file**](../../attached/faces_T192.inp)."
   ]
  }
 ],
 "metadata": {
  "kernelspec": {
   "display_name": "Python 3",
   "language": "python",
   "name": "python3"
  },
  "language_info": {
   "codemirror_mode": {
    "name": "ipython",
    "version": 3
   },
   "file_extension": ".py",
   "mimetype": "text/x-python",
   "name": "python",
   "nbconvert_exporter": "python",
   "pygments_lexer": "ipython3",
   "version": "3.7.10"
  }
 },
 "nbformat": 4,
 "nbformat_minor": 4
}
