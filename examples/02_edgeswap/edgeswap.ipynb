{
 "cells": [
  {
   "cell_type": "markdown",
   "metadata": {},
   "source": [
    "# Multicomponent elastic membranes"
   ]
  },
  {
   "cell_type": "markdown",
   "metadata": {},
   "source": [
    "In this example we reproduce the simulation of [Vernizzi, et al](https://www.pnas.org/content/108/11/4292)\n",
    "The system contains a spherical shell with two different type of edges."
   ]
  },
  {
   "cell_type": "markdown",
   "metadata": {},
   "source": [
    "## Table of contents"
   ]
  },
  {
   "cell_type": "markdown",
   "metadata": {},
   "source": [
    "<dl>\n",
    "  <dt>By</dt>\n",
    "  <dd>Siyu Li</dd>\n",
    "  <dt>Type</dt>\n",
    "  <dd>Monte Carlo</dd>\n",
    "</dl>"
   ]
  },
  {
   "cell_type": "code",
   "execution_count": null,
   "metadata": {},
   "outputs": [],
   "source": [
    "#First we need to import the module for the simulations\n",
    "import pymembrane as mb\n",
    "#numpy\n",
    "import numpy as np"
   ]
  },
  {
   "cell_type": "markdown",
   "metadata": {},
   "source": [
    "#### Loading Mesh\n",
    "We first load the icosahedral mesh, the triangulation number used in the paper is T=189 with (h, k)=(12, 3). The input file can be found in the end of this section."
   ]
  },
  {
   "cell_type": "code",
   "execution_count": null,
   "metadata": {},
   "outputs": [],
   "source": [
    "#create a system \n",
    "system = mb.System()\n",
    "#read the mesh\n",
    "vertex_file = 'vertices_T189.inp'\n",
    "face_file = 'faces_T189.inp'\n",
    "system.read_mesh_from_files(files = {'vertices': vertex_file, 'faces': face_file})"
   ]
  },
  {
   "cell_type": "markdown",
   "metadata": {},
   "source": [
    "#### Set up system\n",
    "We then set up the edge IDs. One way to set up edge ids is use the 'meterial' object, here we present an alternative way by using the 'getEdges' and 'setEdges' functions. Below we assign $30\\%$ edges as type 0 and $70\\%$ edges as type 1. "
   ]
  },
  {
   "cell_type": "code",
   "execution_count": null,
   "metadata": {},
   "outputs": [],
   "source": [
    "fac = 0.7\n",
    "edges = system.getEdges()\n",
    "Ne = len(edges)\n",
    "id0s = np.random.choice(range(Ne),round(fac * Ne), replace = False)\n",
    "id1s = list(set(range(Ne)) - set(id0s))\n",
    "for li in id1s: edges[li].type = 1\n",
    "for li in id0s: edges[li].type = 0\n",
    "system.setEdges(edges)"
   ]
  },
  {
   "cell_type": "markdown",
   "metadata": {},
   "source": [
    "At this stage we could export the initial mesh to vtk format by 'dump' function,  one could then visualize the mesh by open 'mesh_edges.vtp' in **Paraview** and select the 'edge type'"
   ]
  },
  {
   "cell_type": "code",
   "execution_count": null,
   "metadata": {},
   "outputs": [],
   "source": [
    "#save the mesh to display\n",
    "#create dumper\n",
    "dump = system.dump() \n",
    "dump.vtk(\"initial mesh\")"
   ]
  },
  {
   "cell_type": "markdown",
   "metadata": {},
   "source": [
    "<img src=\"../../images/twoedge-3-7.png\" width=\"200\">"
   ]
  },
  {
   "cell_type": "markdown",
   "metadata": {},
   "source": [
    "Now we setup the hetereogeneous properties assigned to different edge type. The total energy of the shell is a sum of harmonic bond energy and bending potential, defined as $E_{bond}=\\sum_i k~(l_i-l_0)^2$ and $E_{bend}=\\sum_{<i,j>}\\frac{\\kappa}{2}~(\\hat{n}_i-\\hat{n}_j)^2$, where the $k$, $l_0$ and $\\kappa$ are the spring constant, equilibrium length and bending rigidity respectively. The potentials are added in the 'add_potential' function, in the third argument two types of edges are defined with same stretching property but different bending rigidities."
   ]
  },
  {
   "cell_type": "code",
   "execution_count": null,
   "metadata": {},
   "outputs": [],
   "source": [
    "#add the evolver class where the potentials and integrators are added\n",
    "evolver = mb.Evolver(system)"
   ]
  },
  {
   "cell_type": "code",
   "execution_count": null,
   "metadata": {},
   "outputs": [],
   "source": [
    "evolver.add_force(\"Mesh>Harmonic\", {\"k\":{\"0\": \"5.77\", \"1\": \"5.77\"}, \n",
    "                                    \"l0\":{\"0\": \"1.0\", \"1\": \"1.0\"}})\n",
    "\n",
    "evolver.add_force(\"Mesh>Bending\", {\"kappa\":{\"0\": \"0.06\", \"1\": \"28.9\"}})"
   ]
  },
  {
   "cell_type": "markdown",
   "metadata": {},
   "source": [
    "The limit edge potential\n",
    "$E_{limit}=\\infty$, $l>l_{max}$ or $l<l_{min}$\n",
    "is also added to prevent the large deformation"
   ]
  },
  {
   "cell_type": "code",
   "execution_count": null,
   "metadata": {},
   "outputs": [],
   "source": [
    "evolver.add_force(\"Mesh>Limit\", {\"lmax\":{\"0\": \"1.3\", \"1\": \"1.3\"},\n",
    "                                 \"lmin\":{\"0\": \"0.7\", \"1\": \"0.7\"},})"
   ]
  },
  {
   "cell_type": "markdown",
   "metadata": {},
   "source": [
    "After assign all the potentials to the system we now need to add the ***Monte Carlo*** integrator. In the following example, each Monte Carlo run will contain $N_v$ attempts move of vertice and $N_v$ attempts of edge swaps."
   ]
  },
  {
   "cell_type": "code",
   "execution_count": null,
   "metadata": {},
   "outputs": [],
   "source": [
    "evolver.add_integrator(\"Mesh>MonteCarlo>vertex>move\", {\"dr\":\"0.05\"})\n",
    "evolver.add_integrator(\"Mesh>MonteCarlo>edge>swap\", {\"every step\": \"1\"})"
   ]
  },
  {
   "cell_type": "code",
   "execution_count": null,
   "metadata": {},
   "outputs": [],
   "source": [
    "print(evolver.get_force_info())"
   ]
  },
  {
   "cell_type": "markdown",
   "metadata": {},
   "source": [
    "Finally we use annealing method to integrate the monte carlo simulation. Five cooling cycles are used below where each cycle containes a linear decreasing of temperature."
   ]
  },
  {
   "cell_type": "code",
   "execution_count": null,
   "metadata": {},
   "outputs": [],
   "source": [
    "## Now we want to run 100000 steps and take snapshot every 10000 steps so then\n",
    "frame = 0\n",
    "run_steps = 200\n",
    "snapshots = 10\n",
    "anneal_steps = 5\n",
    "templist = np.linspace(0.1, 10**-7, 10)\n",
    "\n",
    "for anneal in range(anneal_steps):\n",
    "    for tempindex, temp in enumerate(templist):\n",
    "        ## we step the temperature first\n",
    "        evolver.set_global_temperature(str(temp))\n",
    "        for frame in range(snapshots):\n",
    "            evolver.evolveMC(run_steps // snapshots)\n",
    "            dump.edge_vtk(\"edge_swap_t\" + str(frame))\n",
    "            dump.vtk(\"edge_swap_t\" + str(frame))"
   ]
  },
  {
   "cell_type": "markdown",
   "metadata": {},
   "source": [
    "#### Visualization in Paraview"
   ]
  },
  {
   "cell_type": "markdown",
   "metadata": {},
   "source": [
    "![twocomp_fac](../images/twocomp_fac.pdf)"
   ]
  }
 ],
 "metadata": {
  "kernelspec": {
   "display_name": "Python 3",
   "language": "python",
   "name": "python3"
  },
  "language_info": {
   "codemirror_mode": {
    "name": "ipython",
    "version": 3
   },
   "file_extension": ".py",
   "mimetype": "text/x-python",
   "name": "python",
   "nbconvert_exporter": "python",
   "pygments_lexer": "ipython3",
   "version": "3.7.10"
  }
 },
 "nbformat": 4,
 "nbformat_minor": 4
}
