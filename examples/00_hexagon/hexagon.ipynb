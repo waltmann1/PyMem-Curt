{
 "cells": [
  {
   "cell_type": "code",
   "execution_count": 1,
   "metadata": {},
   "outputs": [],
   "source": [
    "# import the pymembrane package\n",
    "import pymembrane as mb\n",
    "import numpy as np"
   ]
  },
  {
   "cell_type": "code",
   "execution_count": 2,
   "metadata": {},
   "outputs": [
    {
     "name": "stdout",
     "output_type": "stream",
     "text": [
      "Mesh\n",
      " Numvertices  7\n",
      " NumFaces  6\n",
      " NumEdges  12\n",
      " NumHEdges  24\n"
     ]
    }
   ],
   "source": [
    "#C reate a system\n",
    "system = mb.System()\n",
    "# Read the mesh from input files\n",
    "vertex_file = 'vertices.inp'\n",
    "face_file = 'faces.inp'\n",
    "system.read_mesh_from_files(files={'vertices':vertex_file, 'faces':face_file})"
   ]
  },
  {
   "cell_type": "code",
   "execution_count": null,
   "metadata": {},
   "outputs": [],
   "source": [
    "# create dump opbjec that will handle output files for visualization\n",
    "dump = system.dump() \n",
    "dump.vtk(\"initial_mesh\")"
   ]
  },
  {
   "cell_type": "markdown",
   "metadata": {},
   "source": [
    "# Halfedge data structures\n",
    "\n",
    "![halfedge](../examples/images/he.gif \"Halfedge\")"
   ]
  },
  {
   "cell_type": "code",
   "execution_count": null,
   "metadata": {},
   "outputs": [],
   "source": [
    "# To extract the vertices from the mash, we do the following\n",
    "vertices = system.getVertices()\n",
    "#help(system)\n",
    "# We can now try to print the postition of each vertex\n",
    "for vertex in vertices:\n",
    "    print(vertex.r)"
   ]
  },
  {
   "cell_type": "code",
   "execution_count": null,
   "metadata": {},
   "outputs": [],
   "source": [
    "# Not much information there since vertex is a complex data structure\n",
    "# lets get some help\n",
    "help(vertices[0])"
   ]
  },
  {
   "cell_type": "code",
   "execution_count": null,
   "metadata": {},
   "outputs": [],
   "source": [
    "# We can now try to print the positions of the vertices\n",
    "for vertex in vertices:\n",
    "    print(vertex.r , \" or a list \", vertex.r.list())"
   ]
  },
  {
   "cell_type": "code",
   "execution_count": null,
   "metadata": {},
   "outputs": [],
   "source": [
    "# For the faces, we can so a similar operation\n",
    "faces = system.getFaces()\n",
    "for face in faces:\n",
    "    print(face.v1, face.v2, face.v3, face.refmetric())\n",
    "help(faces[0])"
   ]
  },
  {
   "cell_type": "code",
   "execution_count": null,
   "metadata": {},
   "outputs": [],
   "source": [
    "# We can access other methods as well.\n",
    "# For example, first we need to know the edge length to move it appropiate:\n",
    "compute = system.compute_mesh()\n",
    "help(compute)"
   ]
  },
  {
   "cell_type": "code",
   "execution_count": null,
   "metadata": {},
   "outputs": [],
   "source": [
    "edge_lengths = compute.compute_edge_lengths()\n",
    "avg_edge_length= np.mean(edge_lengths)\n",
    "print(\"avg_edge_length = \", avg_edge_length)"
   ]
  }
 ],
 "metadata": {
  "kernelspec": {
   "display_name": "Python 3 (ipykernel)",
   "language": "python",
   "name": "python3"
  },
  "language_info": {
   "codemirror_mode": {
    "name": "ipython",
    "version": 3
   },
   "file_extension": ".py",
   "mimetype": "text/x-python",
   "name": "python",
   "nbconvert_exporter": "python",
   "pygments_lexer": "ipython3",
   "version": "3.9.7"
  }
 },
 "nbformat": 4,
 "nbformat_minor": 4
}
