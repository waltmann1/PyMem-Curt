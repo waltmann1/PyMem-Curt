{
 "cells": [
  {
   "cell_type": "code",
   "execution_count": 8,
   "metadata": {},
   "outputs": [],
   "source": [
    "# import the pymembrane package\n",
    "import pymembrane as mb\n",
    "import numpy as np"
   ]
  },
  {
   "cell_type": "code",
   "execution_count": 9,
   "metadata": {},
   "outputs": [
    {
     "name": "stdout",
     "output_type": "stream",
     "text": [
      "Mesh\n",
      " Numvertices  226\n",
      " NumFaces  405\n",
      " NumEdges  630\n",
      " NumHEdges  1260\n"
     ]
    }
   ],
   "source": [
    "# create a system \n",
    "system = mb.System()\n",
    "# read the mesh\n",
    "N = 10 # pentagon size\n",
    "vertex_file = 'vertices_N' + str(N) + '.inp'\n",
    "face_file = 'faces_N' + str(N) + '.inp'\n",
    "system.read_mesh_from_files(files={'vertices': vertex_file, 'faces': face_file})"
   ]
  },
  {
   "cell_type": "code",
   "execution_count": 10,
   "metadata": {},
   "outputs": [],
   "source": [
    "# create a Dump object for display with Paraview\n",
    "dump = system.dump() \n",
    "dump.vtk(\"initial mesh\")"
   ]
  },
  {
   "cell_type": "code",
   "execution_count": 11,
   "metadata": {},
   "outputs": [],
   "source": [
    "# create an insance of the evolver class to which the potentials (i.e. forces) and integrators are added\n",
    "evolver = mb.Evolver(system)"
   ]
  },
  {
   "cell_type": "code",
   "execution_count": 12,
   "metadata": {},
   "outputs": [
    {
     "name": "stdout",
     "output_type": "stream",
     "text": [
      "avg_edge_length =  1.0626873227189904\n"
     ]
    }
   ],
   "source": [
    "# first we need to know the edge length to move it appropiately:\n",
    "compute = system.compute_mesh()\n",
    "edge_lengths = compute.edge_lengths()\n",
    "avg_edge_length= np.mean(edge_lengths)\n",
    "print(\"avg_edge_length = \", avg_edge_length)"
   ]
  },
  {
   "cell_type": "code",
   "execution_count": 13,
   "metadata": {},
   "outputs": [],
   "source": [
    "# we require bending and stretching potential in addition to the \"limit\" potential to avoid self-intersections\n",
    "# stretching potential with spring constant k = 50 and rest length l0 = 1\n",
    "evolver.add_force(\"Mesh>Harmonic\", {\"k\" : {\"0\": str(50.0)}, \n",
    "                                    \"l0\": {\"0\": str(1.0)}})\n",
    "\n",
    "# limit potential  \n",
    "evolver.add_force(\"Mesh>Limit\", {\"lmin\": {\"0\": str(0.7)}, \n",
    "                                 \"lmax\": {\"0\": str(1.3)}})\n",
    "# bending potential with bending stiffness kappa = 1.0\n",
    "evolver.add_force(\"Mesh>Bending\", {\"kappa\": {\"1\": str(1.0)}})\n",
    "\n",
    "\n",
    "#edges = system.getEdges()\n",
    "#for edge in edges:\n",
    "#    print(edge.type)"
   ]
  },
  {
   "cell_type": "code",
   "execution_count": 14,
   "metadata": {},
   "outputs": [],
   "source": [
    "# In this example, we use the Monte Carlo integrator\n",
    "# vertex move with step size 0.005 and RNG seed 123949\n",
    "\n",
    "evolver.add_integrator(\"Mesh>MonteCarlo>vertex>move\", {\"dr\": str(0.005),\n",
    "                                                       \"seed\": str(123949)})\n",
    "\n"
   ]
  },
  {
   "cell_type": "code",
   "execution_count": 15,
   "metadata": {},
   "outputs": [
    {
     "name": "stdout",
     "output_type": "stream",
     "text": [
      "{'Mesh>MonteCarlo>vertex>move': 306695}\n",
      "{'Mesh>MonteCarlo>vertex>move': 320354}\n",
      "{'Mesh>MonteCarlo>vertex>move': 322023}\n",
      "{'Mesh>MonteCarlo>vertex>move': 322342}\n",
      "{'Mesh>MonteCarlo>vertex>move': 321637}\n",
      "{'Mesh>MonteCarlo>vertex>move': 323552}\n",
      "{'Mesh>MonteCarlo>vertex>move': 324115}\n",
      "{'Mesh>MonteCarlo>vertex>move': 323718}\n",
      "{'Mesh>MonteCarlo>vertex>move': 323417}\n",
      "{'Mesh>MonteCarlo>vertex>move': 323249}\n",
      "{'Mesh>MonteCarlo>vertex>move': 324071}\n",
      "{'Mesh>MonteCarlo>vertex>move': 323628}\n",
      "{'Mesh>MonteCarlo>vertex>move': 323776}\n",
      "{'Mesh>MonteCarlo>vertex>move': 323645}\n",
      "{'Mesh>MonteCarlo>vertex>move': 323915}\n",
      "{'Mesh>MonteCarlo>vertex>move': 323901}\n",
      "{'Mesh>MonteCarlo>vertex>move': 323356}\n",
      "{'Mesh>MonteCarlo>vertex>move': 323529}\n",
      "{'Mesh>MonteCarlo>vertex>move': 323602}\n",
      "{'Mesh>MonteCarlo>vertex>move': 323462}\n",
      "{'Mesh>MonteCarlo>vertex>move': 323895}\n",
      "{'Mesh>MonteCarlo>vertex>move': 323407}\n",
      "{'Mesh>MonteCarlo>vertex>move': 324351}\n",
      "{'Mesh>MonteCarlo>vertex>move': 323544}\n",
      "{'Mesh>MonteCarlo>vertex>move': 323910}\n",
      "{'Mesh>MonteCarlo>vertex>move': 324029}\n",
      "{'Mesh>MonteCarlo>vertex>move': 323907}\n",
      "{'Mesh>MonteCarlo>vertex>move': 323627}\n",
      "{'Mesh>MonteCarlo>vertex>move': 324374}\n",
      "{'Mesh>MonteCarlo>vertex>move': 323656}\n",
      "{'Mesh>MonteCarlo>vertex>move': 323470}\n",
      "{'Mesh>MonteCarlo>vertex>move': 324035}\n",
      "{'Mesh>MonteCarlo>vertex>move': 323896}\n",
      "{'Mesh>MonteCarlo>vertex>move': 324535}\n",
      "{'Mesh>MonteCarlo>vertex>move': 324114}\n",
      "{'Mesh>MonteCarlo>vertex>move': 324005}\n",
      "{'Mesh>MonteCarlo>vertex>move': 324372}\n",
      "{'Mesh>MonteCarlo>vertex>move': 323521}\n",
      "{'Mesh>MonteCarlo>vertex>move': 323991}\n",
      "{'Mesh>MonteCarlo>vertex>move': 323332}\n",
      "{'Mesh>MonteCarlo>vertex>move': 324069}\n",
      "{'Mesh>MonteCarlo>vertex>move': 324009}\n",
      "{'Mesh>MonteCarlo>vertex>move': 324077}\n",
      "{'Mesh>MonteCarlo>vertex>move': 324226}\n",
      "{'Mesh>MonteCarlo>vertex>move': 323652}\n",
      "{'Mesh>MonteCarlo>vertex>move': 323618}\n",
      "{'Mesh>MonteCarlo>vertex>move': 324247}\n",
      "{'Mesh>MonteCarlo>vertex>move': 324036}\n",
      "{'Mesh>MonteCarlo>vertex>move': 324098}\n",
      "{'Mesh>MonteCarlo>vertex>move': 323705}\n",
      "{'Mesh>MonteCarlo>vertex>move': 323832}\n",
      "{'Mesh>MonteCarlo>vertex>move': 323438}\n",
      "{'Mesh>MonteCarlo>vertex>move': 323741}\n",
      "{'Mesh>MonteCarlo>vertex>move': 323849}\n",
      "{'Mesh>MonteCarlo>vertex>move': 323727}\n",
      "{'Mesh>MonteCarlo>vertex>move': 323943}\n",
      "{'Mesh>MonteCarlo>vertex>move': 323756}\n",
      "{'Mesh>MonteCarlo>vertex>move': 323983}\n",
      "{'Mesh>MonteCarlo>vertex>move': 324261}\n",
      "{'Mesh>MonteCarlo>vertex>move': 324154}\n",
      "{'Mesh>MonteCarlo>vertex>move': 323617}\n",
      "{'Mesh>MonteCarlo>vertex>move': 323891}\n",
      "{'Mesh>MonteCarlo>vertex>move': 324026}\n",
      "{'Mesh>MonteCarlo>vertex>move': 324216}\n",
      "{'Mesh>MonteCarlo>vertex>move': 323440}\n",
      "{'Mesh>MonteCarlo>vertex>move': 324283}\n",
      "{'Mesh>MonteCarlo>vertex>move': 323642}\n",
      "{'Mesh>MonteCarlo>vertex>move': 324046}\n",
      "{'Mesh>MonteCarlo>vertex>move': 324342}\n",
      "{'Mesh>MonteCarlo>vertex>move': 324283}\n",
      "{'Mesh>MonteCarlo>vertex>move': 323840}\n",
      "{'Mesh>MonteCarlo>vertex>move': 324078}\n",
      "{'Mesh>MonteCarlo>vertex>move': 323839}\n",
      "{'Mesh>MonteCarlo>vertex>move': 323809}\n",
      "{'Mesh>MonteCarlo>vertex>move': 323996}\n",
      "{'Mesh>MonteCarlo>vertex>move': 323098}\n",
      "{'Mesh>MonteCarlo>vertex>move': 323921}\n",
      "{'Mesh>MonteCarlo>vertex>move': 323479}\n",
      "{'Mesh>MonteCarlo>vertex>move': 324209}\n",
      "{'Mesh>MonteCarlo>vertex>move': 324032}\n",
      "{'Mesh>MonteCarlo>vertex>move': 323615}\n",
      "{'Mesh>MonteCarlo>vertex>move': 323678}\n",
      "{'Mesh>MonteCarlo>vertex>move': 323933}\n",
      "{'Mesh>MonteCarlo>vertex>move': 323409}\n",
      "{'Mesh>MonteCarlo>vertex>move': 323574}\n",
      "{'Mesh>MonteCarlo>vertex>move': 323873}\n",
      "{'Mesh>MonteCarlo>vertex>move': 323627}\n",
      "{'Mesh>MonteCarlo>vertex>move': 324434}\n",
      "{'Mesh>MonteCarlo>vertex>move': 323932}\n",
      "{'Mesh>MonteCarlo>vertex>move': 324223}\n",
      "{'Mesh>MonteCarlo>vertex>move': 323738}\n",
      "{'Mesh>MonteCarlo>vertex>move': 324300}\n",
      "{'Mesh>MonteCarlo>vertex>move': 324408}\n",
      "{'Mesh>MonteCarlo>vertex>move': 324220}\n",
      "{'Mesh>MonteCarlo>vertex>move': 324469}\n",
      "{'Mesh>MonteCarlo>vertex>move': 323742}\n",
      "{'Mesh>MonteCarlo>vertex>move': 323650}\n",
      "{'Mesh>MonteCarlo>vertex>move': 323633}\n",
      "{'Mesh>MonteCarlo>vertex>move': 323689}\n",
      "{'Mesh>MonteCarlo>vertex>move': 323216}\n"
     ]
    }
   ],
   "source": [
    "## We want to produce 100 snapshots with each snapshot made once every 1000 steps\n",
    "snapshots = 100\n",
    "run_steps = 2000\n",
    "\n",
    "## we want to run the simulation at a temperature 1e-3\n",
    "evolver.set_global_temperature(str(1e-3))\n",
    "\n",
    "dump.vtk(\"pentagon_t0\")\n",
    "for snapshot in range(snapshots):\n",
    "    acceptance = evolver.evolveMC(MCS=run_steps)\n",
    "    print(acceptance)\n",
    "    dump.vtk(\"pentagon_t\" + str(snapshot*run_steps))\n"
   ]
  }
 ],
 "metadata": {
  "kernelspec": {
   "display_name": "Python 3 (ipykernel)",
   "language": "python",
   "name": "python3"
  },
  "language_info": {
   "codemirror_mode": {
    "name": "ipython",
    "version": 3
   },
   "file_extension": ".py",
   "mimetype": "text/x-python",
   "name": "python",
   "nbconvert_exporter": "python",
   "pygments_lexer": "ipython3",
   "version": "3.9.7"
  }
 },
 "nbformat": 4,
 "nbformat_minor": 4
}
