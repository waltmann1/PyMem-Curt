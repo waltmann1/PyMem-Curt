{
 "cells": [
  {
   "cell_type": "markdown",
   "metadata": {},
   "source": [
    "# Edgeflip elastic shell"
   ]
  },
  {
   "cell_type": "markdown",
   "metadata": {},
   "source": [
    "In this example we reproduce the simulation of ...\n",
    "The system aims to find the equilibrium structure of a protein cage."
   ]
  },
  {
   "cell_type": "markdown",
   "metadata": {},
   "source": [
    "## Table of contents"
   ]
  },
  {
   "cell_type": "markdown",
   "metadata": {},
   "source": [
    "<dl>\n",
    "  <dt>By</dt>\n",
    "  <dd>Siyu Li</dd>\n",
    "  <dt>Type</dt>\n",
    "  <dd>Monte Carlo Edge Flip</dd>\n",
    "</dl>"
   ]
  },
  {
   "cell_type": "code",
   "execution_count": null,
   "metadata": {},
   "outputs": [],
   "source": [
    "#First we need to import the module for the simulations\n",
    "import pymembrane as mb\n",
    "#numpy\n",
    "import numpy as np"
   ]
  },
  {
   "cell_type": "markdown",
   "metadata": {},
   "source": [
    "#### Loading Mesh\n",
    "We first load the icosahedral mesh, the triangulation number used in the paper is T=189 with (h, k)=(12, 3). The input file can be found in the end of this section."
   ]
  },
  {
   "cell_type": "code",
   "execution_count": null,
   "metadata": {},
   "outputs": [],
   "source": [
    "#create a system \n",
    "system = mb.System()\n",
    "#read the mesh\n",
    "Nv = 72\n",
    "vertex_file = 'vertices_Nv_' + str(Nv) + '.inp'\n",
    "face_file = 'faces_Nv_' + str(Nv) + '.inp'\n",
    "system.read_mesh_from_files(files = {'vertices': vertex_file, 'faces': face_file})"
   ]
  },
  {
   "cell_type": "code",
   "execution_count": null,
   "metadata": {},
   "outputs": [],
   "source": [
    "#save the mesh to display\n",
    "#create dumper\n",
    "dump = system.dump() \n",
    "dump.vtk(\"initial_mesh\")"
   ]
  },
  {
   "cell_type": "code",
   "execution_count": null,
   "metadata": {},
   "outputs": [],
   "source": [
    "#add the evolver class where the potentials and integrators are added\n",
    "evolver = mb.Evolver(system)"
   ]
  },
  {
   "cell_type": "code",
   "execution_count": null,
   "metadata": {},
   "outputs": [],
   "source": [
    "evolver.add_force(\"Mesh>Harmonic\", {\"k\": {\"0\": str(10.)},\n",
    "                                    \"l0\": {\"0\": str(1.0)}})\n",
    "                                    \n",
    "evolver.add_force(\"Mesh>Limit\", {\"lmax\": {\"0\": \"1.5\"},\n",
    "                                \"lmin\": {\"0\": \"0.5\"}})"
   ]
  },
  {
   "cell_type": "code",
   "execution_count": null,
   "metadata": {},
   "outputs": [],
   "source": [
    "evolver.add_integrator(\"Mesh>MonteCarlo>vertex>move\", {\"dr\": \"0.05\", \"spherical_move\": \"true\"})\n",
    "evolver.add_integrator(\"Mesh>MonteCarlo>edge>flip\", {\"every step\": \"1\"})"
   ]
  },
  {
   "cell_type": "code",
   "execution_count": null,
   "metadata": {},
   "outputs": [],
   "source": [
    "print(evolver.get_force_info())\n",
    "computer = system.compute_mesh()\n",
    "energies = computer.compute_mesh_energy(evolver)\n",
    "print(\"initial vertex energy:\", sum(energies[\"vertices\"]), \"edge energy:\", sum(energies[\"edges\"]), \"face energy:\", sum(energies[\"faces\"]))\n",
    "print(\"initial total energy:\", sum(energies[\"vertices\"]) + sum(energies[\"edges\"]) + sum(energies[\"faces\"]))"
   ]
  },
  {
   "cell_type": "code",
   "execution_count": null,
   "metadata": {},
   "outputs": [],
   "source": [
    "run_steps = 50000\n",
    "templist = np.linspace(0.1, 10**-7, 50)\n",
    "frame = 0\n",
    "\n",
    "for tempindex, temp in enumerate(templist):\n",
    "    evolver.set_global_temperature(str(temp))\n",
    "    acc = evolver.evolveMC(run_steps)\n",
    "    print(f\"frame:{frame}\")\n",
    "    print(\"vertexmove accepted ratio:\", acc['Mesh>MonteCarlo>vertex>move'] / system.Numvertices / run_steps)\n",
    "    print(\"edge flip accepted ratio:\", acc['Mesh>MonteCarlo>edge>flip'] / system.Numedges / run_steps)\n",
    "    frame += 1\n",
    "    dump.vtk(f\"edge_flip_Nv_{system.Numvertices}_{frame}\")\n",
    "    energies = computer.compute_mesh_energy(evolver)\n",
    "    print(\"vertex energy:\", sum(energies[\"vertices\"]), \"edge energy:\", sum(energies[\"edges\"]), \"face energy:\", sum(energies[\"faces\"]))\n",
    "    print(\"total energy:\", sum(energies[\"vertices\"]) + sum(energies[\"edges\"]) + sum(energies[\"faces\"]))\n",
    "\n",
    "dump.vtk(f\"edge_flip_Nv_{system.Numvertices}\")"
   ]
  },
  {
   "cell_type": "markdown",
   "metadata": {},
   "source": [
    "Download the [**script**](edgefilp.py), [**initial vertice file**](vertices_Nv_32.inp), [**initial face file**](faces_Nv_32.inp)."
   ]
  },
  {
   "cell_type": "markdown",
   "metadata": {},
   "source": [
    "#### Visualization in Paraview"
   ]
  },
  {
   "cell_type": "markdown",
   "metadata": {},
   "source": [
    "![](Nv32.pdf)"
   ]
  }
 ],
 "metadata": {
  "kernelspec": {
   "display_name": "Python 3",
   "language": "python",
   "name": "python3"
  },
  "language_info": {
   "codemirror_mode": {
    "name": "ipython",
    "version": 3
   },
   "file_extension": ".py",
   "mimetype": "text/x-python",
   "name": "python",
   "nbconvert_exporter": "python",
   "pygments_lexer": "ipython3",
   "version": "3.7.10"
  }
 },
 "nbformat": 4,
 "nbformat_minor": 4
}
